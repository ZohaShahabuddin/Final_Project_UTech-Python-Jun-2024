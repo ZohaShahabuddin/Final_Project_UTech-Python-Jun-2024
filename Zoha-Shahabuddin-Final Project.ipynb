{
 "cells": [
  {
   "cell_type": "code",
   "execution_count": 1,
   "id": "bf5eab76-8f6d-4c42-b403-45eee993a348",
   "metadata": {},
   "outputs": [
    {
     "name": "stdout",
     "output_type": "stream",
     "text": [
      "0\n",
      "1\n",
      "3\n",
      "5\n",
      "7\n",
      "9\n",
      "11\n",
      "13\n",
      "15\n",
      "17\n",
      "19\n"
     ]
    }
   ],
   "source": [
    "for i in range(21):\n",
    "    if i in [2, 4, 6, 8, 10, 12, 14, 16, 18, 20, 22, ]:\n",
    "        continue\n",
    "    print(i)"
   ]
  },
  {
   "cell_type": "code",
   "execution_count": 2,
   "id": "bd918ed6-0baa-40a6-bc9e-c0a8d87aedb2",
   "metadata": {},
   "outputs": [
    {
     "name": "stdin",
     "output_type": "stream",
     "text": [
      "enter your age:  3\n"
     ]
    },
    {
     "name": "stdout",
     "output_type": "stream",
     "text": [
      "you are a child.\n"
     ]
    }
   ],
   "source": [
    "age=int(input(\"enter your age: \"))\n",
    "\n",
    "if age<=10:\n",
    "    print(\"you are a child.\")\n",
    "\n",
    "elif age<=19:\n",
    "    print(\"you are a teenager.\")\n",
    "\n",
    "else:\n",
    "    print(\"you are an adult.\")"
   ]
  },
  {
   "cell_type": "code",
   "execution_count": 7,
   "id": "41647336-4227-47b6-b2e5-0ac861466ba7",
   "metadata": {},
   "outputs": [
    {
     "data": {
      "image/png": "[encoded data removed]",
      "text/plain": [
       "<Figure size 640x480 with 1 Axes>"
      ]
     },
     "metadata": {},
     "output_type": "display_data"
    }
   ],
   "source": [
    "import matplotlib.pyplot as plt\n",
    "\n",
    "valuex = ['0', '1', '5', '10', '14', '18', '20', '27', '48']\n",
    "valuey = [10, 20, 30, 40, 50, 60, 70, 80, 90] \n",
    "\n",
    "plt.plot(valuex, valuey , linestyle =\"--\", marker=\"*\", color=\"red\")\n",
    "plt.title('Line Graph')\n",
    "plt.xlabel('x-axis')\n",
    "plt.ylabel('y-axis')\n",
    "plt.show()\n"
   ]
  },
  {
   "cell_type": "code",
   "execution_count": 58,
   "id": "b7d24f08-17e8-4891-b7a8-a735f8989ebc",
   "metadata": {},
   "outputs": [],
   "source": [
    "from tkinter import *\n",
    "from tkinter import ttk\n",
    "import tkinter as tk\n",
    "\n",
    "def submit_data():\n",
    "    name = fullname.get()\n",
    "    email_id = email.get()\n",
    "    gender = gender_var.get()\n",
    "    dob = dob_var.get()\n",
    "    contact_no = contact.get()\n",
    "    country = country_var.get()\n",
    "    languages = []\n",
    "    if java_var.get():\n",
    "        languages.append(\"Java\")\n",
    "    if python_var.get():\n",
    "        languages.append(\"Python\")\n",
    "    \n",
    "    display_label.config(text=f\"Name: {name}\\nEmail: {email_id}\\nGender: {gender}\\nDate of Birth: {dob}\\nContact: {contact_no}\\nCountry: {country}\\nProgramming Languages: {', '.join(languages)}\")\n",
    "gui = tk.Tk()\n",
    "gui.title(\"Registration Form\")\n",
    "gui.geometry('700x700')\n",
    "gui.configure(bg='cornsilk')\n",
    "Form = Label(gui, text='Registration Form', fg='black',bg='blanchedalmond', font=('Helvetica', 26))\n",
    "Form.grid(row=0, column=1, columnspan=2, pady=10)\n",
    "\n",
    "fullname = StringVar()\n",
    "email = StringVar()\n",
    "gender_var = StringVar(value=\"Male\")\n",
    "dob_var = StringVar()\n",
    "contact = StringVar()\n",
    "country_var = StringVar()\n",
    "java_var = BooleanVar()\n",
    "python_var = BooleanVar()\n",
    "\n",
    "Label(gui, text='Full Name:', bg='blanchedalmond',font=('Helvetica', 16)).grid(row=1, column=0, pady=5, padx=5, sticky=W)\n",
    "Entry(gui, textvariable=fullname).grid(row=1, column=1, pady=5, padx=5)\n",
    "\n",
    "Label(gui, text='Email:', bg='blanchedalmond',font=('Helvetica', 16)).grid(row=1, column=2, pady=5, padx=5, sticky=W)\n",
    "Entry(gui, textvariable=email).grid(row=1, column=3, pady=5, padx=5)\n",
    "\n",
    "Label(gui, text='Gender:', bg='blanchedalmond',font=('Helvetica', 16)).grid(row=3, column=0, pady=5, padx=5, sticky=W)\n",
    "Radiobutton(gui, text='Male', variable=gender_var, value='Male', bg='blanchedalmond',font=('Helvetica', 11)).grid(row=3, column=1, sticky=W)\n",
    "Radiobutton(gui, text='Female', variable=gender_var, value='Female', bg='blanchedalmond',font=('Helvetica', 11)).grid(row=3, column=2, sticky=W)\n",
    "\n",
    "#Label(gui, text='Date of Birth (DD/MM/YYYY):', bg='light blue',font=('Helvetica', 12)).grid(row=4, column=0, pady=5, padx=5, sticky=W)\n",
    "#Entry(gui, textvariable=dob_var).grid(row=4, column=1, pady=5, padx=5)\n",
    "\n",
    "Label(gui, text='Contact No:', bg='blanchedalmond',font=('Helvetica', 16)).grid(row=4, column=2, pady=5, padx=5, sticky=W)\n",
    "Entry(gui, textvariable=contact).grid(row=4, column=3, pady=5, padx=5)\n",
    "\n",
    "Label(gui, text='Country:', bg='blanchedalmond',font=('Helvetica', 16)).grid(row=4, column=0, pady=5, padx=5, sticky=W)\n",
    "countries = ['select your country', 'Singapore', 'USA', 'Canada', 'Pakistan', 'Australia', 'Sri Lanka', 'Bangladesh', 'Afghanistan', 'Iraq', 'Iran', 'Saudi Arabia', 'Dubai', 'India', 'Germany', 'France', 'Japan', 'China', 'Russia']\n",
    "country_dropdown = ttk.Combobox(gui, textvariable=country_var, values=countries)\n",
    "country_dropdown.grid(row=4, column=1, pady=5, padx=5)\n",
    "country_dropdown.current(0) \n",
    "\n",
    "Label(gui, text='Programming Languages:', bg='blanchedalmond',font=('Helvetica', 16)).grid(row=7, column=0, pady=5, padx=5, sticky=W)\n",
    "Checkbutton(gui, text='Java', variable=java_var, bg='blanchedalmond',font=('Helvetica', 11)).grid(row=7, column=1, sticky=W)\n",
    "Checkbutton(gui, text='Python', variable=python_var, bg='blanchedalmond',font=('Helvetica', 11)).grid(row=7, column=2, sticky=W)\n",
    "\n",
    "Button(gui, text='Submit', command=submit_data, bg='lightsalmon').grid(row=8, column=1, pady=10)\n",
    "display_label = Label(gui, text='', bg='blanchedalmond', font=('Helvetica', 13))\n",
    "display_label.grid(row=9, column=0, columnspan=3, pady=10)\n",
    "gui.mainloop()\n"
   ]
  },
  {
   "cell_type": "code",
   "execution_count": null,
   "id": "eac437c3-f80c-4229-a1bb-edf0d6bcf78d",
   "metadata": {},
   "outputs": [],
   "source": []
  },
  {
   "cell_type": "code",
   "execution_count": null,
   "id": "dcce7173-d3a3-4f93-ab57-2370aac5b1f5",
   "metadata": {},
   "outputs": [],
   "source": []
  }
 ],
 "metadata": {
  "kernelspec": {
   "display_name": "Python 3 (ipykernel)",
   "language": "python",
   "name": "python3"
  },
  "language_info": {
   "codemirror_mode": {
    "name": "ipython",
    "version": 3
   },
   "file_extension": ".py",
   "mimetype": "text/x-python",
   "name": "python",
   "nbconvert_exporter": "python",
   "pygments_lexer": "ipython3",
   "version": "3.11.4"
  }
 },
 "nbformat": 4,
 "nbformat_minor": 5
}
